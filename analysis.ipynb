{
 "cells": [
  {
   "cell_type": "code",
   "execution_count": 1,
   "metadata": {},
   "outputs": [],
   "source": [
    "import arcpy\n",
    "import equations"
   ]
  },
  {
   "cell_type": "code",
   "execution_count": 2,
   "metadata": {},
   "outputs": [],
   "source": [
    "arcpy.env.workspace = \"C:/Users/rucke/SpeedHumpProject/SpeedHump.gdb\"\n",
    "fc = \"SpeedHump/SpeedHump20\"\n",
    "edit = arcpy.da.Editor(arcpy.env.workspace)"
   ]
  },
  {
   "cell_type": "markdown",
   "metadata": {},
   "source": [
    "## Accident History Flag"
   ]
  },
  {
   "cell_type": "code",
   "execution_count": 4,
   "metadata": {},
   "outputs": [
    {
     "output_type": "stream",
     "name": "stdout",
     "text": "E:  \nE:  Hi 10 yr crash\nE:  Hi 5 yr crash\nE:  Hi 10 yr crash\nE:  \nE:  Hi 10 yr crash\nE:  Hi 10 yr crash\nE:  \nE:  Hi 10 yr crash\nE:  Hi 10 yr crash\nE:  \nE:  Hi 10 yr crash\nE:  Hi 10 yr crash\nE:  Hi 5 yr crash\nE:  Hi 10 yr crash\nE:  Hi 10 yr crash\nE:  Hi 5 yr crash\nE:  \nE:  Hi 10 yr crash\nE:  Hi 10 yr crash\n"
    }
   ],
   "source": [
    "fields = [\"TEYA\", \"FYA\", \"THYA\", \"AH\"]\n",
    "\n",
    "edit.startEditing(False, True)\n",
    "edit.startOperation()\n",
    "\n",
    "with arcpy.da.UpdateCursor(fc, fields) as cursor:\n",
    "    for row in cursor:\n",
    "        row[3] = equations.acc_hist_flag(row[0], row[1], row[2])\n",
    "        print(\"E: \", row[3])\n",
    "        cursor.updateRow(row)\n",
    "\n",
    "edit.stopOperation()\n",
    "edit.stopEditing(True)"
   ]
  },
  {
   "cell_type": "markdown",
   "metadata": {},
   "source": [
    "## Pre Score"
   ]
  },
  {
   "cell_type": "code",
   "execution_count": 5,
   "metadata": {
    "tags": []
   },
   "outputs": [
    {
     "output_type": "stream",
     "name": "stdout",
     "text": "4.0120000000000005\n7.504999999999999\n9.346\n36.717\n4.675\n14.666\n43.729\n5.366\n20.729\n13.475\n2.1\n23.64\n16.019\n16.633\n16.647\n8.001\n8.05\n6.929\n14.0\n16.675\n"
    }
   ],
   "source": [
    "fields = [\"THYA\", \"FYA\", \"DA\", \"SR\", \"BDR\", \"Park\", \"OSF\", \"SWI\", \"SL\", \"SW\", \"CDP\", \"PS\"]\n",
    "\n",
    "edit.startEditing(False, True)\n",
    "edit.startOperation()\n",
    "\n",
    "with arcpy.da.UpdateCursor(fc, fields) as cursor:\n",
    "    for row in cursor:\n",
    "        sf_int = []\n",
    "        for sf in row[2:7]:\n",
    "            sf_int.append(1 if sf == \"Yes\" else 0)\n",
    "\n",
    "        sw = True if row[9] == \"Yes\" else False\n",
    "        cdp = True if row[10] == \"Yes\" else False\n",
    "        row[11] = float(equations.pre_score(row[0], row[1], sf_int, row[7], row[8], sw, cdp))\n",
    "        print(row[11] - 0.5)\n",
    "        cursor.updateRow(row)\n",
    "\n",
    "edit.stopOperation()\n",
    "edit.stopEditing(True)"
   ]
  },
  {
   "cell_type": "markdown",
   "metadata": {},
   "source": [
    "## Speed Calculation"
   ]
  },
  {
   "cell_type": "code",
   "execution_count": 6,
   "metadata": {
    "tags": []
   },
   "outputs": [
    {
     "output_type": "stream",
     "name": "stdout",
     "text": "36.185001373291016\n43.29999923706055\n33.02499961853027\n32.14999961853027\n33.959999084472656\n37.75\n38.55500030517578\n24.5\n41.314998626708984\n36.83500099182129\n-1\n39.2549991607666\n32.5\n35.53999900817871\n30.199999809265137\n33.5\n34.970001220703125\n27.399999618530273\n34.170000076293945\n39.619998931884766\n"
    }
   ],
   "source": [
    "fields = [\"FN_E_S\", \"FS_W_S\", \"SN_E_S\", \"SS_W_S\", \"CL85\"]\n",
    "\n",
    "edit.startEditing(False, True)\n",
    "edit.startOperation()\n",
    "\n",
    "with arcpy.da.UpdateCursor(fc, fields) as cursor:\n",
    "    for row in cursor:\n",
    "        row[4] = equations.calc_speed(row[0], row[1], row[2], row[3])\n",
    "        print(row[4])\n",
    "        cursor.updateRow(row)\n",
    "\n",
    "edit.stopOperation()\n",
    "edit.stopEditing(True)"
   ]
  },
  {
   "cell_type": "markdown",
   "metadata": {},
   "source": [
    "## ADT Calculation"
   ]
  },
  {
   "cell_type": "code",
   "execution_count": 7,
   "metadata": {
    "tags": []
   },
   "outputs": [
    {
     "output_type": "stream",
     "name": "stdout",
     "text": "1132\n1387\n691\n1986\n864\n1794\n12391\n1765\n2025\n1218\n-1\n4261\n2527\n1311\n863\n606\n871\n277\n5740\n5908\n"
    }
   ],
   "source": [
    "fields = [\"FN_E_T\", \"FS_W_T\", \"SN_E_T\", \"SS_W_T\", \"CLADT\"]\n",
    "\n",
    "edit.startEditing(False, True)\n",
    "edit.startOperation()\n",
    "\n",
    "with arcpy.da.UpdateCursor(fc, fields) as cursor:\n",
    "    for row in cursor:\n",
    "        row[4] = equations.calc_adt(row[0], row[1], row[2], row[3])\n",
    "        print(row[4])\n",
    "        cursor.updateRow(row)\n",
    "\n",
    "edit.stopOperation()\n",
    "edit.stopEditing(True)"
   ]
  },
  {
   "cell_type": "markdown",
   "metadata": {},
   "source": [
    "## Rank Score"
   ]
  },
  {
   "cell_type": "code",
   "execution_count": 8,
   "metadata": {
    "tags": []
   },
   "outputs": [
    {
     "output_type": "stream",
     "name": "stdout",
     "text": "CK:  18.555004119873047\nCL:  0.33\nCM:  10\nCO:  0\nRank Score 28.885004119873045\n\nCK:  39.89999771118164\nCL:  0.9675\nCM:  20\nCO:  0\nRank Score 60.86749771118164\n\nCK:  9.075004577636719\nCL:  0\nCM:  20\nCO:  0\nRank Score -5.0\n\nCK:  6.450004577636719\nCL:  2.465\nCM:  20\nCO:  0\nRank Score 28.915004577636722\n\nCK:  11.879997253417969\nCL:  0\nCM:  10\nCO:  0\nRank Score -5.0\n\nCK:  23.25\nCL:  1.985\nCM:  20\nCO:  0\nRank Score 45.235\n\nCK:  10.665000915527344\nCL:  20\nCM:  20\nCO:  0\nRank Score 50.665000915527344\n\nCK:  0\nCL:  1.9125\nCM:  10\nCO:  26\nRank Score -5.0\n\nCK:  33.94499588012695\nCL:  2.5625\nCM:  20\nCO:  0\nRank Score 56.50749588012695\n\nCK:  20.50499725341797\nCL:  0.545\nCM:  20\nCO:  0\nRank Score 41.04999725341797\n\nCK:  0\nCL:  0\nCM:  0\nCO:  0\nRank Score -5.0\n\nCK:  27.764991760253906\nCL:  8.1525\nCM:  20\nCO:  26\nRank Score 81.91749176025391\n\nCK:  7.5\nCL:  3.8175\nCM:  20\nCO:  26\nRank Score 57.317499999999995\n\nCK:  16.62000274658203\nCL:  0.7775\nCM:  20\nCO:  30\nRank Score 67.39750274658203\n\nCK:  0.6000022888183594\nCL:  0\nCM:  20\nCO:  0\nRank Score -5.0\n\nCK:  10.5\nCL:  0\nCM:  20\nCO:  0\nRank Score -5.0\n\nCK:  14.910003662109375\nCL:  0\nCM:  20\nCO:  0\nRank Score -5.0\n\nCK:  0\nCL:  0\nCM:  10\nCO:  30\nRank Score -5.0\n\nCK:  12.509994506835938\nCL:  11.85\nCM:  20\nCO:  0\nRank Score 44.35999450683594\n\nCK:  28.859996795654297\nCL:  12.27\nCM:  20\nCO:  0\nRank Score 61.12999679565429\n\n"
    }
   ],
   "source": [
    "fields = [\"SP\", \"CL85\", \"CLADT\", \"KSI\", \"THYA\" \"FYA\", \"SW\", \"CDP\", \"DA\", \"SR\", \"BDR\", \"Park\", \"OSF\", \"SWI\", \"RS\"]\n",
    "\n",
    "edit.startEditing(False, True)\n",
    "edit.startOperation()\n",
    "\n",
    "with arcpy.da.UpdateCursor(fc, fields) as cursor:\n",
    "    for row in cursor:\n",
    "        width_factor = 1 if row[13] < 36 else 0\n",
    "        sw_factor = 0.5 if row[6] == \"No\" else 0\n",
    "        cd_factor = 0.5 if row[7] == \"Yes\" else 0\n",
    "        \n",
    "        sf_int = []\n",
    "        for sf in row[9:13]:\n",
    "            sf_int.append(1 if sf == \"Yes\" else 0)\n",
    "        sf_points = equations.calc_sf_points(sf_int, width_factor)\n",
    "\n",
    "        da = 1 if row[8] == \"Yes\" else 0\n",
    "\n",
    "        row[14] = equations.rank_score(row[0], row[1], row[2], row[3], row[4], row[5], sw_factor + cd_factor, da, sf_points)\n",
    "        print(\"Rank Score\", row[14] - 5)\n",
    "        print(\"\")\n",
    "        cursor.updateRow(row)\n",
    "\n",
    "edit.stopOperation()\n",
    "edit.stopEditing(True)"
   ]
  },
  {
   "cell_type": "code",
   "execution_count": null,
   "metadata": {},
   "outputs": [],
   "source": []
  }
 ],
 "metadata": {
  "kernelspec": {
   "display_name": "Python 3.6.9 64-bit",
   "language": "Python",
   "name": "python36964bit7a6655efc66e485da2986b073b3a4357"
  },
  "language_info": {
   "file_extension": ".py",
   "name": "python",
   "version": "3.6.9-final"
  }
 },
 "nbformat": 4,
 "nbformat_minor": 2
}