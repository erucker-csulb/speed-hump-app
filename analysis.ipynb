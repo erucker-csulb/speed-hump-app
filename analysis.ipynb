{
 "cells": [
  {
   "cell_type": "code",
   "execution_count": 1,
   "metadata": {},
   "outputs": [],
   "source": [
    "import arcpy\n",
    "import equations"
   ]
  },
  {
   "cell_type": "code",
   "execution_count": 2,
   "metadata": {},
   "outputs": [],
   "source": [
    "arcpy.env.workspace = \"D:\\CSULB\\SpeedHumps\\SpeedHump.gdb\"\n",
    "fc = \"SpeedHump\\SpeedHump\"\n",
    "edit = arcpy.da.Editor(arcpy.env.workspace)"
   ]
  },
  {
   "cell_type": "markdown",
   "metadata": {},
   "source": [
    "## Accident History Flag"
   ]
  },
  {
   "cell_type": "code",
   "execution_count": 14,
   "metadata": {},
   "outputs": [],
   "source": [
    "fields = [\"TEYA\", \"FYA\", \"THYA\", \"AH\"]\n",
    "\n",
    "edit.startEditing(False, True)\n",
    "edit.startOperation()\n",
    "\n",
    "with arcpy.da.UpdateCursor(fc, fields) as cursor:\n",
    "    for row in cursor:\n",
    "        row[3] = equations.acc_hist_flag(row[0], row[1], row[2])\n",
    "        cursor.updateRow(row)\n",
    "\n",
    "edit.stopOperation()\n",
    "edit.stopEditing(True)"
   ]
  },
  {
   "cell_type": "markdown",
   "metadata": {},
   "source": [
    "## Pre Score"
   ]
  },
  {
   "cell_type": "code",
   "execution_count": 4,
   "metadata": {
    "tags": []
   },
   "outputs": [
    {
     "output_type": "stream",
     "name": "stdout",
     "text": "33.9\n11.5\n6.9\n7.0\n11.2\n"
    }
   ],
   "source": [
    "fields = [\"THYA\", \"FYA\", \"DA\", \"SR\", \"BDR\", \"Park\", \"OSF\", \"SWI\", \"SL\", \"SW\", \"CDP\", \"PS\"]\n",
    "\n",
    "edit.startEditing(False, True)\n",
    "edit.startOperation()\n",
    "\n",
    "with arcpy.da.UpdateCursor(fc, fields) as cursor:\n",
    "    for row in cursor:\n",
    "        sf_int = []\n",
    "        for sf in row[2:7]:\n",
    "            sf_int.append(1 if sf == \"Yes\" else 0)\n",
    "\n",
    "        sw = True if row[9] == \"Yes\" else False\n",
    "        cdp = True if row[10] == \"Yes\" else False\n",
    "        row[11] = float(equations.pre_score(row[0], row[1], sf_int, row[7], row[8], sw, cdp))\n",
    "        print(row[11])\n",
    "        cursor.updateRow(row)\n",
    "\n",
    "edit.stopOperation()\n",
    "edit.stopEditing(True)"
   ]
  },
  {
   "cell_type": "markdown",
   "metadata": {},
   "source": [
    "## Speed Calculation"
   ]
  },
  {
   "cell_type": "code",
   "execution_count": 3,
   "metadata": {
    "tags": []
   },
   "outputs": [
    {
     "output_type": "stream",
     "name": "stdout",
     "text": "24.829999923706055\n32.619998931884766\n32.8799991607666\n29.704999923706055\n33.000000953674316\n"
    }
   ],
   "source": [
    "fields = [\"FN_E_S\", \"FS_W_S\", \"SN_E_S\", \"SS_W_S\", \"CL85\"]\n",
    "\n",
    "edit.startEditing(False, True)\n",
    "edit.startOperation()\n",
    "\n",
    "with arcpy.da.UpdateCursor(fc, fields) as cursor:\n",
    "    for row in cursor:\n",
    "        row[4] = equations.calc_speed(row[0], row[1], row[2], row[3])\n",
    "        print(row[4])\n",
    "        cursor.updateRow(row)\n",
    "\n",
    "edit.stopOperation()\n",
    "edit.stopEditing(True)"
   ]
  },
  {
   "cell_type": "markdown",
   "metadata": {},
   "source": [
    "## ADT Calculation"
   ]
  },
  {
   "cell_type": "code",
   "execution_count": 3,
   "metadata": {
    "tags": []
   },
   "outputs": [
    {
     "output_type": "stream",
     "name": "stdout",
     "text": "8308\n2477\n2597\n7210\n2320\n"
    }
   ],
   "source": [
    "fields = [\"FN_E_T\", \"FS_W_T\", \"SN_E_T\", \"SS_W_T\", \"CLADT\"]\n",
    "\n",
    "edit.startEditing(False, True)\n",
    "edit.startOperation()\n",
    "\n",
    "with arcpy.da.UpdateCursor(fc, fields) as cursor:\n",
    "    for row in cursor:\n",
    "        row[4] = equations.calc_adt(row[0], row[1], row[2], row[3])\n",
    "        print(row[4])\n",
    "        cursor.updateRow(row)\n",
    "\n",
    "edit.stopOperation()\n",
    "edit.stopEditing(True)"
   ]
  },
  {
   "cell_type": "markdown",
   "metadata": {},
   "source": [
    "## Rank Score"
   ]
  },
  {
   "cell_type": "code",
   "execution_count": 3,
   "metadata": {
    "tags": []
   },
   "outputs": [
    {
     "output_type": "stream",
     "name": "stdout",
     "text": "0.0\n0.0\n62.632491760253906\n0.0\n0.0\n"
    }
   ],
   "source": [
    "fields = [\"SP\", \"CL85\", \"CLADT\", \"KSI\", \"FYA\", \"SW\", \"CDP\", \"DA\", \"SR\", \"BDR\", \"Park\", \"OSF\", \"SWI\", \"RS\"]\n",
    "\n",
    "edit.startEditing(False, True)\n",
    "edit.startOperation()\n",
    "\n",
    "with arcpy.da.UpdateCursor(fc, fields) as cursor:\n",
    "    for row in cursor:\n",
    "        width_factor = 1 if row[12] < 36 else 0\n",
    "        sw_factor = 0.5 if row[5] == \"No\" else 0\n",
    "        cd_factor = 0.5 if row[6] == \"Yes\" else 0\n",
    "        \n",
    "        sf_int = []\n",
    "        for sf in row[8:12]:\n",
    "            sf_int.append(1 if sf == \"Yes\" else 0)\n",
    "        sf_points = equations.calc_sf_points(sf_int, width_factor)\n",
    "\n",
    "        row[13] = equations.rank_score(row[0], row[1], row[2], row[3], row[4], sw_factor + cd_factor, row[7], sf_points)\n",
    "        print(row[13])\n",
    "        cursor.updateRow(row)\n",
    "\n",
    "edit.stopOperation()\n",
    "edit.stopEditing(True)"
   ]
  },
  {
   "cell_type": "code",
   "execution_count": null,
   "metadata": {},
   "outputs": [],
   "source": []
  }
 ],
 "metadata": {
  "kernelspec": {
   "display_name": "Python 3.6.9 64-bit ('my_arcgispro-py3': conda)",
   "language": "Python",
   "name": "python_defaultSpec_1595033134299"
  },
  "language_info": {
   "file_extension": ".py",
   "name": "python",
   "version": "3.6.9-final"
  }
 },
 "nbformat": 4,
 "nbformat_minor": 2
}