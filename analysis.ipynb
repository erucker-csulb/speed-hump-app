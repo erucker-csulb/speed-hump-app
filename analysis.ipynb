{
 "cells": [
  {
   "cell_type": "code",
   "execution_count": 1,
   "metadata": {},
   "outputs": [],
   "source": [
    "import arcpy\n",
    "import equations"
   ]
  },
  {
   "cell_type": "code",
   "execution_count": 2,
   "metadata": {},
   "outputs": [],
   "source": [
    "arcpy.env.workspace = \"C:/Users/rucke/SpeedHumpProject/Speed Bump.gdb\"\n",
    "fc = \"SpeedHump/SpeedBump\"\n",
    "edit = arcpy.da.Editor(arcpy.env.workspace)"
   ]
  },
  {
   "cell_type": "markdown",
   "metadata": {},
   "source": [
    "## Accident History Flag"
   ]
  },
  {
   "cell_type": "code",
   "execution_count": 3,
   "metadata": {},
   "outputs": [
    {
     "output_type": "stream",
     "name": "stdout",
     "text": "E:  Hi 10 yr crash\nE:  Recent crashes\nE:  \nE:  Hi 10 yr crash\nE:  Hi 5 yr crash\nE:  Hi 5 yr crash\nE:  Hi 10 yr crash\nE:  Hi 5 yr crash\nE:  \nE:  \nE:  Hi 5 yr crash\nE:  \nE:  Hi 10 yr crash\nE:  Hi 10 yr crash\nE:  \nE:  \nE:  Hi 10 yr crash\nE:  Hi 10 yr crash\nE:  Hi 10 yr crash\nE:  Hi 10 yr crash\nE:  \nE:  Hi 5 yr crash\nE:  Hi 10 yr crash\nE:  Hi 5 yr crash\nE:  Hi 10 yr crash\nE:  Hi 10 yr crash\nE:  Hi 10 yr crash\nE:  \nE:  Hi 10 yr crash\nE:  \nE:  \nE:  Hi 10 yr crash\nE:  Hi 10 yr crash\nE:  Hi 10 yr crash\nE:  Hi 10 yr crash\nE:  Hi 5 yr crash\nE:  \nE:  \nE:  \nE:  \nE:  Hi 10 yr crash\nE:  \nE:  \nE:  \nE:  \nE:  \nE:  \nE:  \nE:  \nE:  \nE:  Hi 10 yr crash\nE:  \nE:  \nE:  \nE:  \nE:  Recent crashes\nE:  \nE:  \nE:  \nE:  \nE:  Hi 10 yr crash\nE:  \nE:  \nE:  \nE:  \nE:  Hi 10 yr crash\nE:  \nE:  Hi 10 yr crash\nE:  Hi 10 yr crash\nE:  \nE:  Hi 10 yr crash\nE:  \nE:  Hi 5 yr crash\nE:  \nE:  \nE:  \nE:  Hi 5 yr crash\nE:  \nE:  \nE:  \nE:  Hi 10 yr crash\nE:  Hi 10 yr crash\nE:  \nE:  \nE:  Hi 10 yr crash\nE:  Hi 5 yr crash\nE:  \nE:  \nE:  \nE:  \nE:  Hi 5 yr crash\nE:  \nE:  \nE:  \nE:  Hi 5 yr crash\nE:  Hi 10 yr crash\nE:  Recent crashes\nE:  \nE:  \nE:  \nE:  \nE:  \nE:  \nE:  \nE:  \nE:  \nE:  \nE:  \nE:  Hi 10 yr crash\nE:  \nE:  \nE:  \nE:  Hi 10 yr crash\nE:  \nE:  Hi 10 yr crash\nE:  \nE:  Hi 5 yr crash\nE:  Hi 5 yr crash\nE:  \nE:  Hi 5 yr crash\nE:  \nE:  \nE:  Hi 10 yr crash\nE:  Recent crashes\nE:  \nE:  \nE:  \nE:  \nE:  \nE:  Recent crashes\nE:  \nE:  Hi 10 yr crash\nE:  \nE:  \nE:  \nE:  \nE:  \nE:  \nE:  \nE:  Recent crashes\nE:  \nE:  Hi 10 yr crash\nE:  \nE:  \nE:  \nE:  Hi 5 yr crash\nE:  Hi 5 yr crash\nE:  Hi 10 yr crash\nE:  \nE:  \nE:  \nE:  \nE:  \nE:  Hi 5 yr crash\nE:  \nE:  Hi 5 yr crash\nE:  Hi 10 yr crash\nE:  Hi 10 yr crash\nE:  \nE:  Hi 5 yr crash\nE:  Hi 10 yr crash\nE:  \nE:  \nE:  \nE:  \nE:  \nE:  \nE:  \nE:  \nE:  \nE:  \nE:  Recent crashes\nE:  \nE:  \nE:  \nE:  \nE:  \nE:  \nE:  \nE:  \nE:  \nE:  \nE:  \nE:  \nE:  Hi 10 yr crash\nE:  \nE:  \nE:  Hi 5 yr crash\nE:  \nE:  Recent crashes\nE:  \nE:  \nE:  \nE:  \nE:  Hi 10 yr crash\nE:  Hi 10 yr crash\nE:  \nE:  \nE:  \nE:  \nE:  \nE:  \nE:  \nE:  \nE:  \nE:  \nE:  \nE:  \nE:  \nE:  \nE:  \nE:  \nE:  \nE:  \nE:  Hi 10 yr crash\nE:  \nE:  Hi 10 yr crash\nE:  \nE:  \nE:  \nE:  \nE:  \nE:  \nE:  Hi 10 yr crash\nE:  \nE:  Hi 10 yr crash\nE:  \nE:  \nE:  \nE:  \nE:  \nE:  Recent crashes\nE:  \nE:  \nE:  \nE:  \nE:  \nE:  \nE:  \nE:  \nE:  Recent crashes\nE:  Hi 5 yr crash\nE:  Hi 5 yr crash\nE:  \nE:  \nE:  \nE:  Recent crashes\nE:  \nE:  \nE:  \nE:  Hi 10 yr crash\nE:  \nE:  \nE:  \nE:  Hi 10 yr crash\nE:  \nE:  \nE:  \nE:  \nE:  Recent crashes\nE:  \nE:  \nE:  \nE:  \nE:  Recent crashes\nE:  Hi 5 yr crash\nE:  Hi 10 yr crash\nE:  \nE:  \n"
    }
   ],
   "source": [
    "fields = [\"TEYA\", \"FYA\", \"THYA\", \"AH\"]\n",
    "\n",
    "edit.startEditing(False, True)\n",
    "edit.startOperation()\n",
    "\n",
    "with arcpy.da.UpdateCursor(fc, fields) as cursor:\n",
    "    for row in cursor:\n",
    "        row[3] = equations.acc_hist_flag(row[0], row[1], row[2])\n",
    "        print(\"E: \", row[3])\n",
    "        cursor.updateRow(row)\n",
    "\n",
    "edit.stopOperation()\n",
    "edit.stopEditing(True)"
   ]
  },
  {
   "cell_type": "markdown",
   "metadata": {},
   "source": [
    "## Pre Score"
   ]
  },
  {
   "cell_type": "code",
   "execution_count": 4,
   "metadata": {
    "tags": []
   },
   "outputs": [
    {
     "output_type": "stream",
     "name": "stdout",
     "text": "32.151\n10.013\n4.711\n4.159\n8.326\n10.302\n9.76\n8.120000000000001\n4.068\n6.744\n9.346\n4.0120000000000005\n7.504999999999999\n14.666\n4.675\n5.366\n36.717\n43.729\n20.729\n13.475\n2.1\n16.633\n16.019\n8.05\n8.001\n23.64\n14.0\n6.929\n16.675\n3.6579999999999995\n3.9000000000000004\n16.647\n32.721000000000004\n7.646000000000001\n3.061\n16.749\n7.0649999999999995\n4.014\n4.009\n5.167\n9.73\n1.137\n4.163\n1.299\n3.315\n2.991\n4.264\n4.359999999999999\n0.944\n2.255\n11.998\n6.748\n0.7389999999999999\n1.6640000000000001\n4.675\n10.36\n3.9859999999999998\n5.694\n1.401\n1.004\n9.927\n6.886\n2.0\n2.666\n5.0\n20.719\n2.198\n15.34\n13.65\n4.645\n15.692\n4.663\n10.048\n1.7269999999999999\n1.027\n3.7249999999999996\n17.999\n1.505\n4.359999999999999\n6.788\n23.836\n4.159\n1.365\n0.8380000000000001\n30.631\n9.884\n5.366\n6.118\n1.173\n5.664\n10.0\n0.9279999999999999\n1.019\n3.21\n12.917\n18.628\n10.556000000000001\n6.2940000000000005\n6.65\n4.339\n0.931\n1.149\n4.208\n3.774\n1.164\n1.7999999999999998\n3.277\n3.0\n6.0\n5.979\n1.435\n0.9339999999999999\n10.6\n7.118\n14.014\n7.0\n10.97\n7.9830000000000005\n1.452\n8.877\n4.396\n6.644\n16.675\n8.551\n3.251\n6.621\n1.113\n4.154\n1.049\n9.16\n4.259\n15.0\n1.103\n2.3129999999999997\n2.903\n1.341\n3.9990000000000006\n1.009\n4.309\n9.269\n1.412\n9.15\n1.0\n5.619\n0.99\n8.35\n13.652000000000001\n11.0\n1.403\n1.3\n4.0\n4.784\n5.519\n9.557\n0.954\n10.134\n21.793\n35.658\n1.35\n9.672\n30.491\n0.946\n1.5550000000000002\n1.313\n7.281000000000001\n3.915\n6.339\n3.283\n6.279\n1.6710000000000003\n1.5\n7.954000000000001\n5.1579999999999995\n1.9009999999999998\n1.292\n4.127\n4.2989999999999995\n2.0\n4.013\n4.371\n4.406000000000001\n1.109\n9.519\n1.383\n17.456\n6.568\n2.0\n9.876\n7.0\n7.655000000000001\n4.686\n1.144\n7.0\n2.075\n16.942\n17.999\n4.098\n1.714\n2.0\n0.929\n4.828\n2.327\n1.653\n0.996\n1.13\n3.7720000000000002\n4.253\n5.994\n4.1129999999999995\n1.749\n1.4\n2.093\n2.0\n3.987\n11.657\n5.507\n42.66\n1.9699999999999998\n3.001\n5.866\n3.9510000000000005\n1.988\n3.0\n22.65\n1.078\n41.045\n1.108\n5.0\n5.165\n1.209\n4.792\n7.981999999999999\n1.125\n4.0\n3.6419999999999995\n2.852\n4.458\n6.354\n1.963\n6.992\n7.361\n10.233\n10.268\n3.0069999999999997\n5.994\n1.452\n8.541\n6.0\n8.298\n1.083\n12.664\n1.7229999999999999\n1.03\n4.5440000000000005\n3.416\n9.02\n2.226\n4.111\n1.9140000000000001\n6.989\n1.4969999999999999\n1.697\n4.66\n6.075\n10.699\n9.914\n33.871\n3.0149999999999997\n3.808\n"
    }
   ],
   "source": [
    "fields = [\"THYA\", \"FYA\", \"DA\", \"SR\", \"BR\", \"Park\", \"OSF\", \"SWI\", \"SL\", \"SW\", \"CDP\", \"PS\"]\n",
    "\n",
    "edit.startEditing(False, True)\n",
    "edit.startOperation()\n",
    "\n",
    "with arcpy.da.UpdateCursor(fc, fields) as cursor:\n",
    "    for row in cursor:\n",
    "        sf_int = []\n",
    "        for sf in row[2:7]:\n",
    "            sf_int.append(1 if sf == \"Yes\" else 0)\n",
    "\n",
    "        sw = True if row[9] == \"Yes\" else False\n",
    "        cdp = True if row[10] == \"Yes\" else False\n",
    "        row[11] = float(equations.pre_score(row[0], row[1], sf_int, row[7], row[8], sw, cdp))\n",
    "        print(row[11] - 0.5)\n",
    "        cursor.updateRow(row)\n",
    "\n",
    "edit.stopOperation()\n",
    "edit.stopEditing(True)"
   ]
  },
  {
   "cell_type": "markdown",
   "metadata": {},
   "source": [
    "## Speed Calculation"
   ]
  },
  {
   "cell_type": "code",
   "execution_count": 6,
   "metadata": {
    "tags": []
   },
   "outputs": [
    {
     "output_type": "stream",
     "name": "stdout",
     "text": "24.829999923706055\n32.619998931884766\n32.8799991607666\n29.704999923706055\n33.05000114440918\n32.35000038146973\n35.829999923706055\n34.2549991607666\n39.84499931335449\n33.1200008392334\n33.02499961853027\n36.185001373291016\n43.29999923706055\n37.75\n33.959999084472656\n24.5\n32.14999961853027\n38.55500030517578\n41.314998626708984\n36.83500099182129\n0.0\n35.53999900817871\n32.5\n34.970001220703125\n33.5\n39.2549991607666\n34.170000076293945\n27.399999618530273\n39.619998931884766\n29.0\n25.100000381469727\n30.199999809265137\n27.200000762939453\n37.68000030517578\n35.619998931884766\n27.899999618530273\n26.350000381469727\n34.59000015258789\n31.0\n22.350000381469727\n23.09999942779541\n37.45000076293945\n33.5\n38.5\n24.449999809265137\n29.460000038146973\n32.654998779296875\n40.8650016784668\n32.45499897003174\n38.045000076293945\n27.5\n50.52000045776367\n30.449999809265137\n30.450000762939453\n27.149999618530273\n38.30500030517578\n33.599998474121094\n40.64999961853027\n26.5\n33.53999900817871\n29.050000190734863\n33.21999931335449\n27.519999504089355\n34.0\n39.689998626708984\n36.30000114440918\n41.96000099182129\n24.575000762939453\n35.614999771118164\n24.600000381469727\n32.67500019073486\n32.47500038146973\n38.545000076293945\n36.83500099182129\n29.399999618530273\n36.81999969482422\n28.300000190734863\n36.30999946594238\n26.0\n23.90000057220459\n33.45000076293945\n29.704999923706055\n31.600000381469727\n27.300000190734863\n29.350000381469727\n32.84499931335449\n24.5\n29.5\n37.42999839782715\n30.0\n28.0\n30.675000190734863\n39.864999771118164\n46.44999885559082\n29.02999973297119\n31.21500015258789\n35.795000076293945\n34.279998779296875\n35.96500015258789\n28.300000190734863\n31.15000057220459\n34.90500068664551\n22.75\n38.0\n29.8149995803833\n37.84000015258789\n34.5\n39.10000038146973\n39.15500068664551\n27.5\n33.760000228881836\n29.0\n35.84000015258789\n35.39500045776367\n21.980000019073486\n38.14500045776367\n33.32499885559082\n34.22000026702881\n26.835000038146973\n31.770000457763672\n40.40999984741211\n32.79999923706055\n35.0\n30.75\n42.40999984741211\n29.0\n34.71999931335449\n29.4399995803833\n27.450000762939453\n38.47500038146973\n29.5\n15.099999904632568\n39.27499961853027\n36.980000495910645\n39.29999923706055\n33.19999885559082\n31.809999465942383\n37.20000076293945\n39.42499923706055\n31.110000610351562\n37.3799991607666\n34.4900016784668\n24.550000190734863\n37.56999969482422\n38.77000045776367\n26.0\n35.89999961853027\n42.80999946594238\n31.850000381469727\n26.0\n37.54999923706055\n38.15999984741211\n37.1299991607666\n30.399999618530273\n43.875\n23.800000190734863\n32.94999885559082\n28.0\n50.09499931335449\n35.59499931335449\n33.285000801086426\n24.5\n32.80000114440918\n33.0\n24.850000381469727\n29.0\n34.32000160217285\n38.489999771118164\n35.0\n35.545000076293945\n30.5\n33.900001525878906\n30.829999923706055\n25.5\n38.060001373291016\n34.79999923706055\n37.5\n29.699999809265137\n32.5\n29.0\n30.0\n36.59499931335449\n35.045000076293945\n27.0\n0.0\n16.0\n36.334999084472656\n32.5\n27.5\n35.89500045776367\n46.26499938964844\n35.385000228881836\n39.72249984741211\n36.165000915527344\n27.949999809265137\n38.790000915527344\n29.5\n12.25\n17.25\n32.2450008392334\n30.050000190734863\n33.5\n32.0\n34.10000038146973\n27.5\n30.610000133514404\n32.5\n33.22999954223633\n31.0\n19.0\n38.65299987792969\n34.60000038146973\n36.0\n23.949999809265137\n64.57500076293945\n17.0\n32.03999996185303\n28.5\n21.300000190734863\n41.454999923706055\n22.800000190734863\n35.97500038146973\n34.0\n27.350000381469727\n33.46000003814697\n36.529998779296875\n31.760000228881836\n40.44000053405762\n32.09500026702881\n25.84999942779541\n21.75\n34.13999938964844\n39.885000228881836\n18.299999237060547\n37.10499954223633\n32.40999984741211\n27.699999809265137\n35.55000114440918\n37.02499961853027\n27.149999618530273\n23.950000762939453\n32.25\n34.71000099182129\n31.0\n29.899999618530273\n29.925000190734863\n30.0\n41.09000015258789\n34.29999923706055\n28.0\n34.0\n39.045000076293945\n36.19499969482422\n29.65000057220459\n38.97749996185303\n37.90999984741211\n38.114999771118164\n39.790000915527344\n41.31999969482422\n41.78499984741211\n41.709999084472656\n25.800000190734863\n37.80500030517578\n26.0\n33.0\n25.59000015258789\n35.30500030517578\n34.029998779296875\n39.5\n"
    }
   ],
   "source": [
    "fields = [\"FN_E_S\", \"FS_W_S\", \"SN_E_S\", \"SS_W_S\", \"CL85\"]\n",
    "\n",
    "edit.startEditing(False, True)\n",
    "edit.startOperation()\n",
    "\n",
    "with arcpy.da.UpdateCursor(fc, fields) as cursor:\n",
    "    for row in cursor:\n",
    "        row[4] = float(equations.calc_speed(row[0], row[1], row[2], row[3]))\n",
    "        print(row[4])\n",
    "        cursor.updateRow(row)\n",
    "\n",
    "edit.stopOperation()\n",
    "edit.stopEditing(True)"
   ]
  },
  {
   "cell_type": "markdown",
   "metadata": {},
   "source": [
    "## ADT Calculation"
   ]
  },
  {
   "cell_type": "code",
   "execution_count": 7,
   "metadata": {
    "tags": []
   },
   "outputs": [
    {
     "output_type": "stream",
     "name": "stdout",
     "text": "8308\n2477\n2597\n7210\n1856\n1400\n6368\n3636\n3800\n1744\n691\n1132\n1387\n1794\n864\n1765\n1986\n12391\n2025\n1218\n0\n1311\n2527\n871\n606\n4261\n5740\n277\n5908\n419\n321\n863\n1598\n1026\n1923\n2297\n696\n803\n730\n705\n2014\n2170\n2459\n842\n1279\n972\n399\n419\n1724\n540\n2549\n1002\n1609\n390\n1006\n2297\n1150\n1142\n1358\n1337\n2282\n4100\n592\n337\n1001\n5323\n589\n1332\n5830\n1332\n2320\n1495\n5619\n1468\n218\n316\n3190\n2068\n2145\n618\n7081\n7210\n1747\n2003\n3464\n1928\n1765\n1579\n2205\n406\n1855\n1335\n1002\n589\n4043\n2404\n1001\n3687\n1461\n257\n3982\n1105\n378\n1108\n493\n2040\n6462\n1174\n12186\n591\n782\n696\n4231\n7483\n4923\n1356\n2614\n659\n1084\n2028\n4789\n942\n1459\n616\n658\n654\n1329\n473\n311\n1002\n588\n451\n633\n1384\n633\n1180\n830\n1001\n1696\n701\n801\n3724\n1227\n1177\n688\n804\n2422\n12899\n1518\n804\n1777\n1125\n2133\n1976\n1001\n1651\n7580\n4891\n556\n1411\n2767\n1298\n426\n957\n992\n1394\n1118\n6511\n366\n674\n1741\n2459\n2567\n266\n1001\n1001\n1020\n692\n439\n1125\n264\n762\n413\n540\n0\n492\n1075\n816\n1153\n1730\n1001\n488\n1154\n683\n4666\n6451\n1163\n192\n165\n2646\n1164\n1609\n504\n3281\n268\n532\n1308\n788\n629\n189\n4307\n520\n1094\n506\n4670\n285\n8624\n388\n1334\n2216\n160\n670\n3650\n2318\n262\n6939\n986\n1446\n2565\n699\n771\n2166\n539\n728\n1284\n281\n260\n741\n428\n1265\n2366\n642\n1528\n3157\n2293\n568\n468\n883\n2408\n541\n700\n316\n1327\n1142\n1330\n2332\n3012\n1960\n1510\n1376\n140\n1034\n2052\n1399\n2162\n831\n13089\n1716\n1239\n"
    }
   ],
   "source": [
    "fields = [\"FN_E_T\", \"FS_W_T\", \"SN_E_T\", \"SS_W_T\", \"CLADT\"]\n",
    "\n",
    "edit.startEditing(False, True)\n",
    "edit.startOperation()\n",
    "\n",
    "with arcpy.da.UpdateCursor(fc, fields) as cursor:\n",
    "    for row in cursor:\n",
    "        row[4] = equations.calc_adt(row[0], row[1], row[2], row[3])\n",
    "        print(row[4])\n",
    "        cursor.updateRow(row)\n",
    "\n",
    "edit.stopOperation()\n",
    "edit.stopEditing(True)"
   ]
  },
  {
   "cell_type": "markdown",
   "metadata": {},
   "source": [
    "## Rank Score"
   ]
  },
  {
   "cell_type": "code",
   "execution_count": 8,
   "metadata": {
    "tags": []
   },
   "outputs": [
    {
     "output_type": "stream",
     "name": "stdout",
     "text": "CK:  0\nCL:  18.27\nCM:  20\nCO:  12\nRank Score -5.0\n\nCK:  7.859996795654297\nCL:  3.6925\nCM:  20\nCO:  30\nRank Score 61.55249679565429\n\nCK:  8.639991760253906\nCL:  3.9925\nCM:  10\nCO:  0\nRank Score 22.632491760253906\n\nCK:  0\nCL:  15.525\nCM:  0\nCO:  30\nRank Score -5.0\n\nCK:  9.150009155273438\nCL:  2.14\nCM:  20\nCO:  0\nRank Score 31.290009155273438\n\nCK:  7.049995422363281\nCL:  1.0\nCM:  20\nCO:  0\nRank Score 28.04999542236328\n\nCK:  17.490005493164062\nCL:  13.42\nCM:  20\nCO:  0\nRank Score 50.910005493164064\n\nCK:  12.764991760253906\nCL:  6.59\nCM:  20\nCO:  0\nRank Score 39.35499176025391\n\nCK:  29.535003662109375\nCL:  7.0\nCM:  17\nCO:  0\nRank Score 53.535003662109375\n\nCK:  9.360008239746094\nCL:  1.86\nCM:  20\nCO:  26\nRank Score 57.22000823974609\n\nCK:  9.075004577636719\nCL:  0\nCM:  20\nCO:  0\nRank Score -5.0\n\nCK:  18.555004119873047\nCL:  0.33\nCM:  17\nCO:  0\nRank Score 35.885004119873045\n\nCK:  39.89999771118164\nCL:  0.9675\nCM:  20\nCO:  0\nRank Score 60.86749771118164\n\nCK:  23.25\nCL:  1.985\nCM:  20\nCO:  0\nRank Score 45.235\n\nCK:  11.879997253417969\nCL:  0\nCM:  17\nCO:  0\nRank Score -5.0\n\nCK:  0\nCL:  1.9125\nCM:  17\nCO:  26\nRank Score -5.0\n\nCK:  6.450004577636719\nCL:  2.465\nCM:  20\nCO:  0\nRank Score 28.915004577636722\n\nCK:  10.665000915527344\nCL:  20\nCM:  20\nCO:  0\nRank Score 50.665000915527344\n\nCK:  33.94499588012695\nCL:  2.5625\nCM:  20\nCO:  0\nRank Score 56.50749588012695\n\nCK:  20.50499725341797\nCL:  0.545\nCM:  20\nCO:  0\nRank Score 41.04999725341797\n\nCK:  0\nCL:  0\nCM:  0\nCO:  0\nRank Score -5.0\n\nCK:  16.62000274658203\nCL:  0.7775\nCM:  20\nCO:  30\nRank Score 67.39750274658203\n\nCK:  7.5\nCL:  3.8175\nCM:  20\nCO:  26\nRank Score 57.317499999999995\n\nCK:  14.910003662109375\nCL:  0\nCM:  20\nCO:  0\nRank Score -5.0\n\nCK:  10.5\nCL:  0\nCM:  20\nCO:  0\nRank Score -5.0\n\nCK:  27.764991760253906\nCL:  8.1525\nCM:  20\nCO:  26\nRank Score 81.91749176025391\n\nCK:  12.509994506835938\nCL:  11.85\nCM:  20\nCO:  0\nRank Score 44.35999450683594\n\nCK:  0\nCL:  0\nCM:  17\nCO:  30\nRank Score -5.0\n\nCK:  28.859996795654297\nCL:  12.27\nCM:  20\nCO:  0\nRank Score 61.12999679565429\n\nCK:  0\nCL:  0\nCM:  10\nCO:  0\nRank Score -5.0\n\nCK:  0\nCL:  0\nCM:  10\nCO:  0\nRank Score -5.0\n\nCK:  0.6000022888183594\nCL:  0\nCM:  20\nCO:  0\nRank Score -5.0\n\nCK:  0\nCL:  1.495\nCM:  20\nCO:  0\nRank Score -5.0\n\nCK:  23.040000915527344\nCL:  0.065\nCM:  20\nCO:  0\nRank Score 43.10500091552734\n\nCK:  16.859996795654297\nCL:  2.3075\nCM:  10\nCO:  0\nRank Score 29.1674967956543\n\nCK:  0\nCL:  3.2425\nCM:  20\nCO:  30\nRank Score -5.0\n\nCK:  0\nCL:  0\nCM:  17\nCO:  30\nRank Score -5.0\n\nCK:  13.770000457763672\nCL:  0\nCM:  10\nCO:  26\nRank Score -5.0\n\nCK:  3.0\nCL:  0\nCM:  0\nCO:  30\nRank Score -5.0\n\nCK:  0\nCL:  0\nCM:  17\nCO:  18\nRank Score -5.0\n\nCK:  0\nCL:  2.535\nCM:  20\nCO:  0\nRank Score -5.0\n\nCK:  22.35000228881836\nCL:  2.925\nCM:  0\nCO:  0\nRank Score 25.27500228881836\n\nCK:  10.5\nCL:  3.6475\nCM:  17\nCO:  0\nRank Score 31.1475\n\nCK:  25.5\nCL:  0\nCM:  0\nCO:  0\nRank Score -5.0\n\nCK:  0\nCL:  0.6975\nCM:  10\nCO:  0\nRank Score -5.0\n\nCK:  0\nCL:  0\nCM:  10\nCO:  0\nRank Score -5.0\n\nCK:  7.964996337890625\nCL:  0\nCM:  17\nCO:  0\nRank Score -5.0\n\nCK:  17.59500503540039\nCL:  0\nCM:  10\nCO:  0\nRank Score -5.0\n\nCK:  7.364994049072266\nCL:  1.81\nCM:  0\nCO:  0\nRank Score 9.174994049072266\n\nCK:  24.134994506835938\nCL:  0\nCM:  0\nCO:  0\nRank Score -5.0\n\nCK:  0\nCL:  3.8725\nCM:  20\nCO:  0\nRank Score -5.0\n\nCK:  40\nCL:  0.005\nCM:  20\nCO:  0\nRank Score 60.004999999999995\n\nCK:  1.3500022888183594\nCL:  1.5225\nCM:  0\nCO:  0\nRank Score 2.8725022888183593\n\nCK:  1.3500022888183594\nCL:  0\nCM:  0\nCO:  0\nRank Score -5.0\n\nCK:  0\nCL:  0.015\nCM:  17\nCO:  0\nRank Score -5.0\n\nCK:  24.915000915527344\nCL:  3.2425\nCM:  20\nCO:  30\nRank Score 78.15750091552735\n\nCK:  10.799995422363281\nCL:  0.375\nCM:  0\nCO:  30\nRank Score 41.17499542236328\n\nCK:  31.95000457763672\nCL:  0.355\nCM:  17\nCO:  26\nRank Score 75.30500457763671\n\nCK:  0\nCL:  0.895\nCM:  0\nCO:  0\nRank Score -5.0\n\nCK:  10.620002746582031\nCL:  0.8425\nCM:  0\nCO:  0\nRank Score 11.462502746582032\n\nCK:  0\nCL:  3.205\nCM:  20\nCO:  0\nRank Score -5.0\n\nCK:  9.660003662109375\nCL:  7.75\nCM:  20\nCO:  0\nRank Score 37.410003662109375\n\nCK:  0\nCL:  0\nCM:  0\nCO:  0\nRank Score -5.0\n\nCK:  12.0\nCL:  0\nCM:  0\nCO:  28\nRank Score -5.0\n\nCK:  29.069995880126953\nCL:  0.0025\nCM:  17\nCO:  0\nRank Score 46.07249588012695\n\nCK:  0\nCL:  10.8075\nCM:  20\nCO:  28\nRank Score -5.0\n\nCK:  35.87999725341797\nCL:  0\nCM: 0\nCO:  0\nRank Score -5.0\n\nCK:  0\nCL:  0.83\nCM:  20\nCO:  30\nRank Score -5.0\n\nCK:  16.844993591308594\nCL:  12.075\nCM:  20\nCO:  30\nRank Score 78.9199935913086\n\nCK:  0\nCL:  0.83\nCM:  17\nCO:  0\nRank Score -5.0\n\nCK:  8.02499771118164\nCL:  3.3\nCM:  20\nCO:  0\nRank Score 31.324997711181638\n\nCK:  7.424995422363281\nCL:  1.2375\nCM:  17\nCO:  0\nRank Score 25.662495422363282\n\nCK:  25.634994506835938\nCL:  11.5475\nCM:  20\nCO:  0\nRank Score 57.18249450683594\n\nCK:  20.50499725341797\nCL:  1.17\nCM:  0\nCO:  0\nRank Score 21.67499725341797\n\nCK:  0\nCL:  0\nCM:  0\nCO:  0\nRank Score -5.0\n\nCK:  20.459999084472656\nCL:  0\nCM:  10\nCO:  0\nRank Score -5.0\n\nCK:  0\nCL:  5.475\nCM:  20\nCO:  0\nRank Score -5.0\n\nCK:  18.92999267578125\nCL:  2.67\nCM:  0\nCO:  0\nRank Score 21.59999267578125\n\nCK:  0\nCL:  2.8625\nCM:  20\nCO:  0\nRank Score -5.0\n\nCK:  0\nCL:  0\nCM:  20\nCO:  0\nRank Score -5.0\n\nCK:  10.35000228881836\nCL:  15.2025\nCM:  20\nCO:  30\nRank Score 75.55250228881836\n\nCK:  0\nCL:  15.525\nCM:  0\nCO:  30\nRank Score -5.0\n\nCK:  4.80000114440918\nCL:  1.8675\nCM:  0\nCO:  0\nRank Score 6.667501144409179\n\nCK:  0\nCL:  2.5075\nCM:  0\nCO:  0\nRank Score -5.0\n\nCK:  0\nCL:  6.16\nCM:  20\nCO:  0\nRank Score -5.0\n\nCK:  8.535003662109375\nCL:  2.32\nCM:  20\nCO:  0\nRank Score 30.855003662109375\n\nCK:  0\nCL:  1.9125\nCM:  17\nCO:  26\nRank Score -5.0\n\nCK:  0\nCL:  1.4475\nCM:  10\nCO:  30\nRank Score -5.0\n\nCK:  22.290000915527344\nCL:  3.0125\nCM:  0\nCO:  0\nRank Score 25.302500915527343\n\nCK:  0\nCL:  0\nCM:  20\nCO:  0\nRank Score -5.0\n\nCK:  0\nCL:  2.1375\nCM:  20\nCO:  0\nRank Score -5.0\n\nCK:  2.0249977111816406\nCL:  0.8375\nCM:  0\nCO:  0\nRank Score 2.862497711181641\n\nCK:  29.594993591308594\nCL:  0.005\nCM:  0\nCO:  0\nRank Score 29.59999359130859\n\nCK:  40\nCL:  0\nCM:  0\nCO:  18\nRank Score -5.0\n\nCK:  0\nCL:  7.6075\nCM:  20\nCO:  30\nRank Score -5.0\n\nCK:  3.645000457763672\nCL:  3.51\nCM:  20\nCO:  0\nRank Score 27.15500045776367\n\nCK:  17.384994506835938\nCL:  0.0025\nCM:  20\nCO:  30\nRank Score 67.38749450683594\n\nCK:  12.839996337890625\nCL:  6.7175\nCM:  20\nCO:  0\nRank Score 39.557496337890626\n\nCK:  17.895000457763672\nCL:  1.1525\nCM:  20\nCO:  0\nRank Score 39.047500457763675\n\nCK:  0\nCL:  0\nCM:  0\nCO:  30\nRank Score -5.0\n\nCK:  3.4500045776367188\nCL:  7.455\nCM:  0\nCO:  0\nRank Score 10.905004577636719\n\nCK:  14.714996337890625\nCL:  0.2625\nCM:  0\nCO:  0\nRank Score 14.977496337890624\n\nCK:  0\nCL:  0\nCM:  17\nCO:  0\nRank Score -5.0\n\nCK:  24.0\nCL:  0.27\nCM:  10\nCO:  0\nRank Score 34.269999999999996\n\nCK:  0\nCL:  0\nCM:  0\nCO:  0\nRank Score -5.0\n\nCK:  23.520000457763672\nCL:  2.6\nCM:  0\nCO:  0\nRank Score 26.120000457763673\n\nCK:  13.5\nCL:  13.655\nCM:  10\nCO:  0\nRank Score 37.155\n\nCK:  12.299995422363281\nCL:  0.435\nCM:  0\nCO:  0\nRank Score 12.734995422363284\n\nCK:  12.464996337890625\nCL:  20\nCM:  20\nCO:  0\nRank Score 52.464996337890625\n\nCK:  0\nCL:  0\nCM:  17\nCO:  30\nRank Score -5.0\n\nCK:  11.280006408691406\nCL:  0\nCM:  0\nCO:  0\nRank Score -5.0\n\nCK:  0\nCL:  0\nCM:  0\nCO:  0\nRank Score -5.0\n\nCK:  17.520000457763672\nCL:  8.0775\nCM:  20\nCO:  0\nRank Score 45.59750045776367\n\nCK:  1.1850013732910156\nCL:  16.2075\nCM:  17\nCO:  30\nRank Score 64.39250137329101\n\nCK:  0\nCL:  9.8075\nCM:  20\nCO:  28\nRank Score -5.0\n\nCK:  24.435001373291016\nCL:  0.89\nCM:  20\nCO:  0\nRank Score 45.325001373291016\n\nCK:  9.974990844726562\nCL:  4.035\nCM:  20\nCO:  30\nRank Score 64.00999084472656\n\nCK:  12.660003662109375\nCL:  0\nCM:  20\nCO:  0\nRank Score -5.0\n\nCK:  0\nCL:  0.21\nCM:  0\nCO:  0\nRank Score -5.0\n\nCK:  5.310001373291016\nCL:  2.57\nCM:  20\nCO:  0\nRank Score 27.880001373291016\n\nCK:  1.2299995422363281\nCL:  9.4725\nCM:  0\nCO:  30\nRank Score -5.0\n\nCK:  8.39999771118164\nCL:  0\nCM:  10\nCO:  30\nRank Score -5.0\n\nCK:  15.0\nCL:  1.1475\nCM:  20\nCO:  26\nRank Score 62.14750000000001\n\nCK:  2.25\nCL:  0\nCM:  20\nCO:  28\nRank Score -5.0\n\nCK:  37.22999954223633\nCL:  0\nCM:  10\nCO:  0\nRank Score -5.0\n\nCK:  0\nCL:  0\nCM:  20\nCO:  0\nRank Score -5.0\n\nCK:  14.160003662109375\nCL:  0.8225\nCM:  0\nCO:  0\nRank Score 14.982503662109373\n\nCK:0\nCL:  0\nCM:  17\nCO:  0\nRank Score -5.0\n\nCK:  0\nCL:  0\nCM:  0\nCO:  0\nRank Score -5.0\n\nCK:  25.42499542236328\nCL:  0.005\nCM:  20\nCO:  30\nRank Score 75.42999542236328\n\nCK:  0\nCL:  0\nCM:  0\nCO:  30\nRank Score -5.0\n\nCK:  0\nCL:  0\nCM:  20\nCO:  0\nRank Score -5.0\n\nCK:  27.82500457763672\nCL:  0\nCM:  0\nCO:  0\nRank Score -5.0\n\nCK:  20.939998626708984\nCL:  0.96\nCM:  0\nCO:  0\nRank Score 21.899998626708985\n\nCK:  27.89999771118164\nCL:  0\nCM:  10\nCO:  0\nRank Score -5.0\n\nCK:  9.599990844726562\nCL:  0.45\nCM:  0\nCO:  0\nRank Score 10.049990844726562\n\nCK:  5.429998397827148\nCL:  0\nCM:  10\nCO:  0\nRank Score -5.0\n\nCK:  21.60000228881836\nCL:  0.0025\nCM:  0\nCO:  0\nRank Score 21.60250228881836\n\nCK:  28.27499771118164\nCL:  1.74\nCM:  17\nCO:  0\nRank Score 47.014997711181636\n\nCK:  3.3300018310546875\nCL:  0\nCM:  20\nCO:  18\nRank Score -5.0\n\nCK:  22.139991760253906\nCL:  0\nCM:  0\nCO:  0\nRank Score -5.0\n\nCK:  13.47000503540039\nCL:  6.81\nCM:  20\nCO:  0\nRank Score 40.28000503540039\n\nCK:  0\nCL:  0.5675\nCM:  0\nCO:  0\nRank Score -5.0\n\nCK:  22.709999084472656\nCL:  0.4425\nCM:  20\nCO:  0\nRank Score 43.15249908447265\n\nCK:  26.310001373291016\nCL:  0\nCM:  0\nCO:  0\nRank Score -5.0\n\nCK:  0\nCL:  0\nCM:  20\nCO:  0\nRank Score -5.0\n\nCK:  17.70000457763672\nCL:  3.555\nCM:  20\nCO:  30\nRank Score 71.25500457763673\n\nCK:  23.42999267578125\nCL:  20\nCM:  20\nCO:  30\nRank Score 93.42999267578125\n\nCK:  5.55000114440918\nCL:  1.295\nCM:  0\nCO:  0\nRank Score 6.84500114440918\n\nCK:  0\nCL:  0\nCM:  0\nCO:  0\nRank Score -5.0\n\nCK:  22.64999771118164\nCL:  1.9425\nCM:  10\nCO:  0\nRank Score 34.592497711181636\n\nCK:  24.479999542236328\nCL:  0.3125\nCM:  17\nCO:  0\nRank Score 41.79249954223633\n\nCK:  21.389991760253906\nCL:  2.8325\nCM:  17\nCO:  0\nRank Score 41.2224917602539\n\nCK:  1.1999988555908203\nCL:  2.44\nCM:  20\nCO:  0\nRank Score 23.63999885559082\n\nCK:  40\nCL:  0.0025\nCM:  0\nCO:  0\nRank Score 40.0025\n\nCK:  0\nCL:  1.6275\nCM:  20\nCO:  0\nRank Score -5.0\n\nCK:  8.849990844726562\nCL:  16.45\nCM:  20\nCO:  30\nRank Score 75.29999084472657\n\nCK:  0\nCL:  9.7275\nCM:  20\nCO:  0\nRank Score -5.0\n\nCK:  40\nCL:  0\nCM:  0\nCO:  0\nRank Score -5.0\n\nCK:  16.785003662109375\nCL:  1.0275\nCM:  20\nCO:  0\nRank Score 37.81250366210938\n\nCK:  9.854999542236328\nCL:  4.4175\nCM:  20\nCO:  0\nRank Score 34.27249954223633\n\nCK:  0\nCL:  0.745\nCM:  0\nCO:  0\nRank Score -5.0\n\nCK:  8.400009155273438\nCL:  0\nCM:  0\nCO:  0\nRank Score -5.0\n\nCK:  9.0\nCL:  0\nCM:  0\nCO:  0\nRank Score -5.0\n\nCK:  0\nCL:  0\nCM:  20\nCO:  18\nRank Score -5.0\n\nCK:  0\nCL:  0.985\nCM:  10\nCO:  18\nRank Score -5.0\n\nCK:  12.959999084472656\nCL:  0.295\nCM:  20\nCO:  0\nRank Score 33.25499908447266\n\nCK:  25.469993591308594\nCL:  13.7775\nCM:  0\nCO:  18\nRank Score 57.2474935913086\n\nCK:  15.0\nCL:  0\nCM:  20\nCO:  0\nRank Score -5.0\n\nCK:  16.634994506835938\nCL:  0\nCM:  0\nCO:  0\nRank Score -5.0\n\nCK:  1.5\nCL:  1.8525\nCM:  0\nCO:  0\nRank Score 3.352499999999999\n\nCK:  11.700004577636719\nCL:  3.6475\nCM:  20\nCO:  0\nRank Score 35.34750457763672\n\nCK:  2.489999771118164\nCL:  3.9175\nCM:  17\nCO:  18\nRank Score 41.40749977111817\n\nCK:  0\nCL:  0\nCM:  0\nCO:  0\nRank Score -5.0\n\nCK:  24.180004119873047\nCL:  0.0025\nCM:  0\nCO:  0\nRank Score 24.182504119873048\n\nCK:  14.39999771118164\nCL:  0.0025\nCM:  0\nCO:  30\nRank Score 44.40249771118164\n\nCK:  22.5\nCL:  0.05\nCM:  17\nCO:  0\nRank Score 39.55\n\nCK:  0\nCL:  0\nCM:  0\nCO:  0\nRank Score -5.0\n\nCK:  7.5\nCL:  0\nCM:  0\nCO:  30\nRank Score -5.0\n\nCK:  0\nCL:  0.3125\nCM:  0\nCO:  30\nRank Score -5.0\n\nCK:  0\nCL:  0\nCM:  0\nCO:  30\nRank Score -5.0\n\nCK:  19.785003662109375\nCL:  0\nCM:  0\nCO:  0\nRank Score -5.0\n\nCK:  15.134994506835938\nCL:  0\nCM:  20\nCO:  30\nRank Score -5.0\n\nCK:  0\nCL:  0\nCM:  0\nCO:  0\nRank Score -5.0\n\nCK:  0\nCL:  0\nCM:  20\nCO:  0\nRank Score -5.0\n\nCK:  0\nCL:  0\nCM:  20\nCO:  0\nRank Score -5.0\n\nCK:  19.00499725341797\nCL:  0.1875\nCM:  0\nCO:  0\nRank Score 19.19249725341797\n\nCK:  7.5\nCL:  0\nCM:  20\nCO:  18\nRank Score -5.0\n\nCK:  0\nCL:  0.3825\nCM:  17\nCO:  30\nRank Score -5.0\n\nCK:  17.685001373291016\nCL:  1.825\nCM:  20\nCO:  0\nRank Score 39.51000137329102\n\nCK:  40\nCL:  0.0025\nCM:  0\nCO:  30\nRank Score 70.0025\n\nCK:  16.155006408691406\nCL:  0\nCM:  0\nCO:  0\nRank Score -5.0\n\nCK:  29.167499542236328\nCL:  0.385\nCM:  10\nCO:  30\nRank Score 69.55249954223633\n\nCK:  18.49500274658203\nCL:  0\nCM:  0\nCO:  0\nRank Score -5.0\n\nCK:  0\nCL:  9.165\nCM:  20\nCO:  0\nRank Score -5.0\n\nCK:  11.370002746582031\nCL:  13.6275\nCM:  20\nCO:  0\nRank Score 44.99750274658203\n\nCK:  0\nCL:  0.4075\nCM:  17\nCO:  0\nRank Score -5.0\n\nCK:  0\nCL:  0\nCM:  0\nCO:  0\nRank Score -5.0\n\nCK: 0\nCL:  0\nCM:  0\nCO:  0\nRank Score -5.0\n\nCK:  6.735008239746094\nCL:  4.115\nCM:  0\nCO:  0\nRank Score 10.850008239746094\n\nCK:  0.14999771118164062\nCL:  0.41\nCM:  17\nCO:  28\nRank Score 45.55999771118164\n\nCK:  10.5\nCL:  1.5225\nCM:  0\nCO:  18\nRank Score 30.0225\n\nCK:  6.0\nCL:  0\nCM:  0\nCO:  0\nRank Score -5.0\n\nCK:  12.299995422363281\nCL:  5.7025\nCM:  0\nCO:  0\nRank Score 18.002495422363282\n\nCK:  0\nCL:  0\nCM:  0\nCO:  0\nRank Score -5.0\n\nCK:  1.8300018310546875\nCL:  0\nCM:  17\nCO:  0\nRank Score -5.0\n\nCK:  7.5\nCL:  0.77\nCM:  0\nCO:  30\nRank Score 38.269999999999996\n\nCK:  9.689998626708984\nCL:  0\nCM:  20\nCO:  0\nRank Score -5.0\n\nCK:  3.0\nCL:  0\nCM:  0\nCO:  30\nRank Score -5.0\n\nCK:  0\nCL:  0\nCM:  0\nCO:  0\nRank Score -5.0\n\nCK:  25.958999633789062\nCL:  8.2675\nCM:  0\nCO:  0\nRank Score 34.22649963378906\n\nCK:  13.799995422363281\nCL:  0\nCM:  0\nCO:  18\nRank Score -5.0\n\nCK:  18.0\nCL:  0.235\nCM:  0\nCO:  0\nRank Score 18.235\n\nCK:  0\nCL:  0\nCM:  10\nCO:  18\nRank Score -5.0\n\nCK:  40\nCL:  9.175\nCM:  20\nCO:  0\nRank Score 69.175\n\nCK:  0\nCL:  0\nCM:  17\nCO:  26\nRank Score -5.0\n\nCK:  6.120002746582031\nCL:  19.06\nCM:  20\nCO:  0\nRank Score 45.18000274658203\n\nCK:  0\nCL:  0\nCM:  0\nCO:  0\nRank Score -5.0\n\nCK:  0\nCL:  0.835\nCM:  0\nCO:  30\nRank Score -5.0\n\nCK:  34.36500549316406\nCL:  3.04\nCM:  17\nCO:  0\nRank Score 54.40500549316406\n\nCK:  0\nCL:  0\nCM:  17\nCO:  0\nRank Score -5.0\n\nCK:  17.92499542236328\nCL:  0\nCM:  0\nCO:  0\nRank Score -5.0\n\nCK:  0\nCL:  6.625\nCM:  0\nCO:  18\nRank Score -5.0\n\nCK:  0\nCL:  3.295\nCM:  20\nCO:  0\nRank Score -5.0\n\nCK:  10.379997253417969\nCL:  0\nCM:  0\nCO:  0\nRank Score -5.0\n\nCK:  19.589996337890625\nCL:  14.8475\nCM:  20\nCO:  30\nRank Score 84.43749633789062\n\nCK:  5.280000686645508\nCL:  0\nCM:  0\nCO:  0\nRank Score -5.0\n\nCK:  16.32000732421875\nCL:  1.115\nCM:  17\nCO:  0\nRank Score 34.435007324218745\n\nCK:  6.285003662109375\nCL:  3.9125\nCM:  17\nCO:  18\nRank Score 45.197503662109376\n\nCK:  0\nCL:  0\nCM:  0\nCO:  0\nRank Score -5.0\n\nCK:  0\nCL:  0\nCM:  17\nCO:  0\nRank Score -5.0\n\nCK:  12.419998168945312\nCL:  2.915\nCM:  20\nCO:  0\nRank Score 35.33499816894531\n\nCK:  29.655006408691406\nCL:  0\nCM:  0\nCO:  0\nRank Score -5.0\n\nCK:  0\nCL:  0\nCM:  10\nCO:  0\nRank Score -5.0\n\nCK:  21.314998626708984\nCL:  0.71\nCM:  10\nCO:  0\nRank Score 32.024998626708985\n\nCK:  7.229999542236328\nCL:  0\nCM:  10\nCO:  0\nRank Score -5.0\n\nCK:  0\nCL:  0\nCM:  17\nCO:  0\nRank Score -5.0\n\nCK:  16.650009155273438\nCL:  0\nCM:  10\nCO:  30\nRank Score -5.0\n\nCK:  21.07500457763672\nCL:  0\nCM:  0\nCO:  18\nRank Score -5.0\n\nCK:  0\nCL:  0.6625\nCM:  20\nCO:  18\nRank Score -5.0\n\nCK:  0\nCL:  3.415\nCM:  20\nCO:  0\nRank Score -5.0\n\nCK:  6.75\nCL:  0\nCM:  20\nCO:  0\nRank Score -5.0\n\nCK:  14.129997253417969\nCL:  1.32\nCM:  20\nCO:  0\nRank Score 35.44999725341797\n\nCK:  3.0\nCL:  5.3925\nCM:  10\nCO:  0\nRank Score 18.3925\n\nCK:  0\nCL:  3.2325\nCM:  20\nCO:  0\nRank Score -5.0\n\nCK:  0\nCL:  0\nCM:  0\nCO:  0\nRank Score -5.0\n\nCK:  0\nCL:  0\nCM:  20\nCO:  26\nRank Score -5.0\n\nCK:  33.27000045776367\nCL:  0\nCM:  17\nCO:  0\nRank Score -5.0\n\nCK:  12.89999771118164\nCL:  3.52\nCM:  20\nCO:  30\nRank Score 66.41999771118164\n\nCK:  0\nCL:  0\nCM:  0\nCO:  0\nRank Score -5.0\n\nCK:  12.0\nCL:  0\nCM:  20\nCO:  0\nRank Score -5.0\n\nCK:  27.134994506835938\nCL:  0\nCM:  0\nCO:  0\nRank Score -5.0\n\nCK:  18.584999084472656\nCL:  0.8175\nCM:  0\nCO:  0\nRank Score 19.402499084472655\n\nCK:  0\nCL:  0.355\nCM:  0\nCO:  30\nRank Score -5.0\n\nCK:  26.93250274658203\nCL:  0.825\nCM:  10\nCO:  0\nRank Score 37.757502746582034\n\nCK:  23.729999542236328\nCL:  3.33\nCM:  20\nCO:  30\nRank Score 77.05999954223633\n\nCK:  24.344993591308594\nCL:  5.03\nCM:  0\nCO:  0\nRank Score 29.374993591308595\n\nCK:  29.37000274658203\nCL:  2.4\nCM:  0\nCO:  30\nRank Score 61.77000274658204\n\nCK:  33.959999084472656\nCL:  1.275\nCM:  0\nCO:  18\nRank Score 53.234999084472655\n\nCK:  35.35499954223633\nCL:  0.94\nCM:  20\nCO:  0\nRank Score 56.294999542236326\n\nCK:  35.12999725341797\nCL:  0\nCM:  0\nCO:  0\nRank Score -5.0\n\nCK:  0\nCL:  0.085\nCM:  0\nCO:  0\nRank Score -5.0\n\nCK:  23.415000915527344\nCL:  2.63\nCM:  17\nCO:  0\nRank Score 43.04500091552734\n\nCK:  0\nCL:  0.9975\nCM:  10\nCO:  30\nRank Score -5.0\n\nCK:  9.0\nCL:  2.905\nCM:  20\nCO:  30\nRank Score 61.905\n\nCK:  0\nCL:  0\nCM:  20\nCO:  18\nRank Score -5.0\n\nCK:  0.9150009155273438\nCL:  20\nCM:  20\nCO:  0\nRank Score 40.915000915527344\n\nCK:  12.089996337890625\nCL:  1.79\nCM:  0\nCO:  44\nRank Score 57.879996337890624\n\nCK:  28.5\nCL:  0.5975\nCM:  10\nCO:  0\nRank Score 39.0975\n\n"
    }
   ],
   "source": [
    "fields = [\"SP\", \"CL85\", \"CLADT\", \"KSI\", \"THYA\", \"FYA\", \"SW\", \"CDP\", \"DA\", \"SR\", \"BR\", \"Park\", \"OSF\", \"SWI\", \"RS\"]\n",
    "\n",
    "edit.startEditing(False, True)\n",
    "edit.startOperation()\n",
    "\n",
    "with arcpy.da.UpdateCursor(fc, fields) as cursor:\n",
    "    for row in cursor:\n",
    "        width_factor = 1 if row[13] < 36 else 0\n",
    "        sw_factor = 0.5 if row[6] == \"No\" else 0\n",
    "        cd_factor = 0.5 if row[7] == \"Yes\" else 0\n",
    "        \n",
    "        sf_int = []\n",
    "        for sf in row[9:13]:\n",
    "            sf_int.append(1 if sf == \"Yes\" else 0)\n",
    "        sf_points = equations.calc_sf_points(sf_int, width_factor)\n",
    "\n",
    "        da = 1 if row[8] == \"Yes\" else 0\n",
    "\n",
    "        row[14] = float(equations.rank_score(row[0], row[1], row[2], row[3], row[4], row[5], sw_factor + cd_factor, da, sf_points))\n",
    "        print(\"Rank Score\", row[14] - 5)\n",
    "        print(\"\")\n",
    "        cursor.updateRow(row)\n",
    "\n",
    "edit.stopOperation()\n",
    "edit.stopEditing(True)"
   ]
  },
  {
   "cell_type": "code",
   "execution_count": null,
   "metadata": {},
   "outputs": [],
   "source": []
  }
 ],
 "metadata": {
  "kernelspec": {
   "display_name": "Python 3.6.9 64-bit",
   "language": "Python",
   "name": "python36964bit7a6655efc66e485da2986b073b3a4357"
  },
  "language_info": {
   "file_extension": ".py",
   "name": "python",
   "version": "3.6.9-final"
  }
 },
 "nbformat": 4,
 "nbformat_minor": 2
}